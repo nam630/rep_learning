{
 "cells": [
  {
   "cell_type": "code",
   "execution_count": 1,
   "metadata": {
    "id": "LZvgfH0MwOmh",
    "outputId": "90946f1b-eac5-48df-f4f6-f18a7e887fd5"
   },
   "outputs": [
    {
     "name": "stdout",
     "output_type": "stream",
     "text": [
      "Requirement already satisfied: plotly in /home/alexdloia/miniconda3/lib/python3.7/site-packages (5.3.1)\n",
      "Requirement already satisfied: six in /home/alexdloia/miniconda3/lib/python3.7/site-packages (from plotly) (1.16.0)\n",
      "Requirement already satisfied: tenacity>=6.2.0 in /home/alexdloia/miniconda3/lib/python3.7/site-packages (from plotly) (8.0.1)\n"
     ]
    }
   ],
   "source": [
    "#@title Run to import libraries\n",
    "!pip install Box2D > /dev/null 2>&1\n",
    "!pip install gym[box2d] pyvirtualdisplay > /dev/null 2>&1\n",
    "!pip install plotly --upgrade"
   ]
  },
  {
   "cell_type": "code",
   "execution_count": 2,
   "metadata": {
    "id": "ixR8qSagwOmm",
    "outputId": "4ce2cdbe-27a5-4669-d4c2-9cbceac4d4fc"
   },
   "outputs": [
    {
     "name": "stdout",
     "output_type": "stream",
     "text": [
      "Requirement already satisfied: gym[atari] in /home/alexdloia/miniconda3/lib/python3.7/site-packages (0.21.0)\n",
      "Requirement already satisfied: cloudpickle>=1.2.0 in /home/alexdloia/miniconda3/lib/python3.7/site-packages (from gym[atari]) (2.0.0)\n",
      "Requirement already satisfied: numpy>=1.18.0 in /home/alexdloia/miniconda3/lib/python3.7/site-packages (from gym[atari]) (1.21.4)\n",
      "Requirement already satisfied: importlib-metadata>=4.8.1 in /home/alexdloia/miniconda3/lib/python3.7/site-packages (from gym[atari]) (4.8.1)\n",
      "Requirement already satisfied: ale-py~=0.7.1 in /home/alexdloia/miniconda3/lib/python3.7/site-packages (from gym[atari]) (0.7.3)\n",
      "Requirement already satisfied: importlib-resources in /home/alexdloia/miniconda3/lib/python3.7/site-packages (from ale-py~=0.7.1->gym[atari]) (5.4.0)\n",
      "Requirement already satisfied: typing-extensions>=3.6.4 in /home/alexdloia/miniconda3/lib/python3.7/site-packages (from importlib-metadata>=4.8.1->gym[atari]) (3.10.0.2)\n",
      "Requirement already satisfied: zipp>=0.5 in /home/alexdloia/miniconda3/lib/python3.7/site-packages (from importlib-metadata>=4.8.1->gym[atari]) (3.6.0)\n"
     ]
    }
   ],
   "source": [
    "!pip install gym[atari]"
   ]
  },
  {
   "cell_type": "code",
   "execution_count": 3,
   "metadata": {
    "id": "w_L8iK8pwOmn",
    "outputId": "2122d157-2482-4739-8770-4668681bfd79"
   },
   "outputs": [
    {
     "name": "stdout",
     "output_type": "stream",
     "text": [
      "Requirement already satisfied: tensorboard in /home/alexdloia/miniconda3/lib/python3.7/site-packages (2.7.0)\n",
      "Requirement already satisfied: absl-py>=0.4 in /home/alexdloia/miniconda3/lib/python3.7/site-packages (from tensorboard) (0.15.0)\n",
      "Requirement already satisfied: google-auth<3,>=1.6.3 in /home/alexdloia/miniconda3/lib/python3.7/site-packages (from tensorboard) (2.3.3)\n",
      "Requirement already satisfied: markdown>=2.6.8 in /home/alexdloia/miniconda3/lib/python3.7/site-packages (from tensorboard) (3.3.4)\n",
      "Requirement already satisfied: google-auth-oauthlib<0.5,>=0.4.1 in /home/alexdloia/miniconda3/lib/python3.7/site-packages (from tensorboard) (0.4.6)\n",
      "Requirement already satisfied: setuptools>=41.0.0 in /home/alexdloia/miniconda3/lib/python3.7/site-packages (from tensorboard) (52.0.0.post20210125)\n",
      "Requirement already satisfied: wheel>=0.26 in /home/alexdloia/miniconda3/lib/python3.7/site-packages (from tensorboard) (0.36.2)\n",
      "Requirement already satisfied: numpy>=1.12.0 in /home/alexdloia/miniconda3/lib/python3.7/site-packages (from tensorboard) (1.21.4)\n",
      "Requirement already satisfied: tensorboard-data-server<0.7.0,>=0.6.0 in /home/alexdloia/miniconda3/lib/python3.7/site-packages (from tensorboard) (0.6.1)\n",
      "Requirement already satisfied: protobuf>=3.6.0 in /home/alexdloia/miniconda3/lib/python3.7/site-packages (from tensorboard) (3.19.1)\n",
      "Requirement already satisfied: requests<3,>=2.21.0 in /home/alexdloia/miniconda3/lib/python3.7/site-packages (from tensorboard) (2.25.1)\n",
      "Requirement already satisfied: werkzeug>=0.11.15 in /home/alexdloia/miniconda3/lib/python3.7/site-packages (from tensorboard) (2.0.2)\n",
      "Requirement already satisfied: tensorboard-plugin-wit>=1.6.0 in /home/alexdloia/miniconda3/lib/python3.7/site-packages (from tensorboard) (1.8.0)\n",
      "Requirement already satisfied: grpcio>=1.24.3 in /home/alexdloia/miniconda3/lib/python3.7/site-packages (from tensorboard) (1.41.1)\n",
      "Requirement already satisfied: six in /home/alexdloia/miniconda3/lib/python3.7/site-packages (from absl-py>=0.4->tensorboard) (1.16.0)\n",
      "Requirement already satisfied: cachetools<5.0,>=2.0.0 in /home/alexdloia/miniconda3/lib/python3.7/site-packages (from google-auth<3,>=1.6.3->tensorboard) (4.2.4)\n",
      "Requirement already satisfied: rsa<5,>=3.1.4 in /home/alexdloia/miniconda3/lib/python3.7/site-packages (from google-auth<3,>=1.6.3->tensorboard) (4.7.2)\n",
      "Requirement already satisfied: pyasn1-modules>=0.2.1 in /home/alexdloia/miniconda3/lib/python3.7/site-packages (from google-auth<3,>=1.6.3->tensorboard) (0.2.8)\n",
      "Requirement already satisfied: requests-oauthlib>=0.7.0 in /home/alexdloia/miniconda3/lib/python3.7/site-packages (from google-auth-oauthlib<0.5,>=0.4.1->tensorboard) (1.3.0)\n",
      "Requirement already satisfied: importlib-metadata in /home/alexdloia/miniconda3/lib/python3.7/site-packages (from markdown>=2.6.8->tensorboard) (4.8.1)\n",
      "Requirement already satisfied: pyasn1<0.5.0,>=0.4.6 in /home/alexdloia/miniconda3/lib/python3.7/site-packages (from pyasn1-modules>=0.2.1->google-auth<3,>=1.6.3->tensorboard) (0.4.8)\n",
      "Requirement already satisfied: chardet<5,>=3.0.2 in /home/alexdloia/miniconda3/lib/python3.7/site-packages (from requests<3,>=2.21.0->tensorboard) (4.0.0)\n",
      "Requirement already satisfied: urllib3<1.27,>=1.21.1 in /home/alexdloia/miniconda3/lib/python3.7/site-packages (from requests<3,>=2.21.0->tensorboard) (1.26.6)\n",
      "Requirement already satisfied: idna<3,>=2.5 in /home/alexdloia/miniconda3/lib/python3.7/site-packages (from requests<3,>=2.21.0->tensorboard) (2.10)\n",
      "Requirement already satisfied: certifi>=2017.4.17 in /home/alexdloia/miniconda3/lib/python3.7/site-packages (from requests<3,>=2.21.0->tensorboard) (2021.10.8)\n",
      "Requirement already satisfied: oauthlib>=3.0.0 in /home/alexdloia/miniconda3/lib/python3.7/site-packages (from requests-oauthlib>=0.7.0->google-auth-oauthlib<0.5,>=0.4.1->tensorboard) (3.1.1)\n",
      "Requirement already satisfied: typing-extensions>=3.6.4 in /home/alexdloia/miniconda3/lib/python3.7/site-packages (from importlib-metadata->markdown>=2.6.8->tensorboard) (3.10.0.2)\n",
      "Requirement already satisfied: zipp>=0.5 in /home/alexdloia/miniconda3/lib/python3.7/site-packages (from importlib-metadata->markdown>=2.6.8->tensorboard) (3.6.0)\n"
     ]
    }
   ],
   "source": [
    "!pip install tensorboard"
   ]
  },
  {
   "cell_type": "code",
   "execution_count": 4,
   "metadata": {
    "id": "Mtc3BDx3wOmo",
    "outputId": "823f27bb-910e-46fb-984d-4a67cd7d262c"
   },
   "outputs": [
    {
     "name": "stdout",
     "output_type": "stream",
     "text": [
      "Requirement already satisfied: pandas in /home/alexdloia/miniconda3/lib/python3.7/site-packages (1.3.4)\n",
      "Requirement already satisfied: pytz>=2017.3 in /home/alexdloia/miniconda3/lib/python3.7/site-packages (from pandas) (2021.3)\n",
      "Requirement already satisfied: python-dateutil>=2.7.3 in /home/alexdloia/miniconda3/lib/python3.7/site-packages (from pandas) (2.8.2)\n",
      "Requirement already satisfied: numpy>=1.17.3 in /home/alexdloia/miniconda3/lib/python3.7/site-packages (from pandas) (1.21.4)\n",
      "Requirement already satisfied: six>=1.5 in /home/alexdloia/miniconda3/lib/python3.7/site-packages (from python-dateutil>=2.7.3->pandas) (1.16.0)\n"
     ]
    }
   ],
   "source": [
    "!pip install pandas"
   ]
  },
  {
   "cell_type": "code",
   "execution_count": 5,
   "metadata": {
    "id": "Eg1Ng66IwOmo",
    "outputId": "c7d3e467-e331-48f0-a2d7-2b0a392dc15e"
   },
   "outputs": [
    {
     "name": "stdout",
     "output_type": "stream",
     "text": [
      "Requirement already satisfied: pyvirtualdisplay in /home/alexdloia/miniconda3/lib/python3.7/site-packages (2.2)\r\n",
      "Requirement already satisfied: EasyProcess in /home/alexdloia/miniconda3/lib/python3.7/site-packages (from pyvirtualdisplay) (0.3)\r\n"
     ]
    }
   ],
   "source": [
    "!pip install pyvirtualdisplay"
   ]
  },
  {
   "cell_type": "code",
   "execution_count": 6,
   "metadata": {
    "id": "k_hxPKQ7wOmp",
    "outputId": "bab0b944-7bef-4acc-8f58-161868c611d1"
   },
   "outputs": [
    {
     "name": "stdout",
     "output_type": "stream",
     "text": [
      "Requirement already satisfied: torch in /home/alexdloia/miniconda3/lib/python3.7/site-packages (1.10.0)\r\n",
      "Requirement already satisfied: typing-extensions in /home/alexdloia/miniconda3/lib/python3.7/site-packages (from torch) (3.10.0.2)\r\n"
     ]
    }
   ],
   "source": [
    "!pip install torch"
   ]
  },
  {
   "cell_type": "code",
   "execution_count": 7,
   "metadata": {
    "id": "38E0iADzwOmq",
    "outputId": "0a947416-4d65-4b1b-cec7-14e937ea3241"
   },
   "outputs": [
    {
     "name": "stdout",
     "output_type": "stream",
     "text": [
      "Requirement already satisfied: gym[accept-rom-license] in /home/alexdloia/miniconda3/lib/python3.7/site-packages (0.21.0)\n",
      "Requirement already satisfied: numpy>=1.18.0 in /home/alexdloia/miniconda3/lib/python3.7/site-packages (from gym[accept-rom-license]) (1.21.4)\n",
      "Requirement already satisfied: importlib-metadata>=4.8.1 in /home/alexdloia/miniconda3/lib/python3.7/site-packages (from gym[accept-rom-license]) (4.8.1)\n",
      "Requirement already satisfied: cloudpickle>=1.2.0 in /home/alexdloia/miniconda3/lib/python3.7/site-packages (from gym[accept-rom-license]) (2.0.0)\n",
      "Requirement already satisfied: autorom[accept-rom-license]~=0.4.2 in /home/alexdloia/miniconda3/lib/python3.7/site-packages (from gym[accept-rom-license]) (0.4.2)\n",
      "Requirement already satisfied: click in /home/alexdloia/miniconda3/lib/python3.7/site-packages (from autorom[accept-rom-license]~=0.4.2->gym[accept-rom-license]) (8.0.3)\n",
      "Requirement already satisfied: importlib-resources in /home/alexdloia/miniconda3/lib/python3.7/site-packages (from autorom[accept-rom-license]~=0.4.2->gym[accept-rom-license]) (5.4.0)\n",
      "Requirement already satisfied: requests in /home/alexdloia/miniconda3/lib/python3.7/site-packages (from autorom[accept-rom-license]~=0.4.2->gym[accept-rom-license]) (2.25.1)\n",
      "Requirement already satisfied: tqdm in /home/alexdloia/miniconda3/lib/python3.7/site-packages (from autorom[accept-rom-license]~=0.4.2->gym[accept-rom-license]) (4.61.2)\n",
      "Requirement already satisfied: AutoROM.accept-rom-license in /home/alexdloia/miniconda3/lib/python3.7/site-packages (from autorom[accept-rom-license]~=0.4.2->gym[accept-rom-license]) (0.4.2)\n",
      "Requirement already satisfied: typing-extensions>=3.6.4 in /home/alexdloia/miniconda3/lib/python3.7/site-packages (from importlib-metadata>=4.8.1->gym[accept-rom-license]) (3.10.0.2)\n",
      "Requirement already satisfied: zipp>=0.5 in /home/alexdloia/miniconda3/lib/python3.7/site-packages (from importlib-metadata>=4.8.1->gym[accept-rom-license]) (3.6.0)\n",
      "Requirement already satisfied: chardet<5,>=3.0.2 in /home/alexdloia/miniconda3/lib/python3.7/site-packages (from requests->autorom[accept-rom-license]~=0.4.2->gym[accept-rom-license]) (4.0.0)\n",
      "Requirement already satisfied: idna<3,>=2.5 in /home/alexdloia/miniconda3/lib/python3.7/site-packages (from requests->autorom[accept-rom-license]~=0.4.2->gym[accept-rom-license]) (2.10)\n",
      "Requirement already satisfied: certifi>=2017.4.17 in /home/alexdloia/miniconda3/lib/python3.7/site-packages (from requests->autorom[accept-rom-license]~=0.4.2->gym[accept-rom-license]) (2021.10.8)\n",
      "Requirement already satisfied: urllib3<1.27,>=1.21.1 in /home/alexdloia/miniconda3/lib/python3.7/site-packages (from requests->autorom[accept-rom-license]~=0.4.2->gym[accept-rom-license]) (1.26.6)\n"
     ]
    }
   ],
   "source": [
    "!pip install gym[accept-rom-license]"
   ]
  },
  {
   "cell_type": "code",
   "execution_count": 8,
   "metadata": {
    "id": "UwFtpG4cwOmq",
    "outputId": "1a71c2b0-4866-4ec6-a5dd-5ccca9d659db"
   },
   "outputs": [
    {
     "name": "stdout",
     "output_type": "stream",
     "text": [
      "Requirement already satisfied: kornia in /home/alexdloia/miniconda3/lib/python3.7/site-packages (0.6.1)\n",
      "Requirement already satisfied: torch>=1.8.1 in /home/alexdloia/miniconda3/lib/python3.7/site-packages (from kornia) (1.10.0)\n",
      "Requirement already satisfied: packaging in /home/alexdloia/miniconda3/lib/python3.7/site-packages (from kornia) (21.0)\n",
      "Requirement already satisfied: typing-extensions in /home/alexdloia/miniconda3/lib/python3.7/site-packages (from torch>=1.8.1->kornia) (3.10.0.2)\n",
      "Requirement already satisfied: pyparsing>=2.0.2 in /home/alexdloia/miniconda3/lib/python3.7/site-packages (from packaging->kornia) (3.0.4)\n"
     ]
    }
   ],
   "source": [
    "!pip install kornia"
   ]
  },
  {
   "cell_type": "code",
   "execution_count": 9,
   "metadata": {
    "id": "h6v4c9_UwOmr",
    "outputId": "d5b5140a-cd61-45f6-859d-79986d112476"
   },
   "outputs": [
    {
     "name": "stderr",
     "output_type": "stream",
     "text": [
      "/home/alexdloia/miniconda3/lib/python3.7/site-packages/ale_py/roms/utils.py:90: DeprecationWarning: SelectableGroups dict interface is deprecated. Use select.\n",
      "  for external in metadata.entry_points().get(self.group, []):\n"
     ]
    }
   ],
   "source": [
    "%load_ext tensorboard\n",
    "\n",
    "import math\n",
    "import gym \n",
    "import plotly.express as px\n",
    "import numpy as np\n",
    "import warnings\n",
    "from plotly.subplots import make_subplots\n",
    "import plotly.graph_objects as go\n",
    "import random\n",
    "from collections import Counter, deque\n",
    "import pandas as pd\n",
    "from sklearn.model_selection import train_test_split\n",
    "import datetime\n",
    "from sklearn.metrics import confusion_matrix\n",
    "import plotly.figure_factory as ff\n",
    "\n",
    "import os\n",
    "import glob\n",
    "from IPython import display as ipythondisplay\n",
    "from tqdm.notebook import tqdm\n",
    "from gym.wrappers import Monitor\n",
    "from IPython.display import HTML\n",
    "import base64\n",
    "import io\n",
    "import pickle\n",
    "import torch\n",
    "from torch import nn\n",
    "import kornia.augmentation as aug\n",
    "warnings.filterwarnings(\"ignore\")"
   ]
  },
  {
   "cell_type": "code",
   "execution_count": 10,
   "metadata": {
    "id": "XREqct6awOms"
   },
   "outputs": [],
   "source": [
    "from pyvirtualdisplay import Display\n",
    "display = Display(visible=0, size=(1400, 900))\n",
    "# display.start()"
   ]
  },
  {
   "cell_type": "code",
   "execution_count": 11,
   "metadata": {
    "id": "T1ACavBgwOmt"
   },
   "outputs": [],
   "source": [
    "import os, sys, copy, argparse, shutil\n",
    "def parse_arguments():\n",
    "    parser = argparse.ArgumentParser(description='Deep Q Network Argument Parser')\n",
    "    parser.add_argument('--seed', dest='seed', type=int, default=1)\n",
    "    parser.add_argument('--env', dest='env', type=str, default='CartPole-v0')\n",
    "    parser.add_argument('--save_interval', type=int, default=50, help='save model every n episodes')\n",
    "    parser.add_argument('--log_interval', type=int, default=10, help='logging every n episodes')\n",
    "    parser.add_argument('--render', help='render', type=int, default=1)\n",
    "    parser.add_argument('--batch_size', help='batch_size', type=int, default=32)\n",
    "    parser.add_argument('--train_freq', help='train_frequency', type=int, default=1)\n",
    "    parser.add_argument('--max_episode', help='maximum episode', type=int, default=None)\n",
    "    parser.add_argument('--max_timesteps', help='maximum timestep', type=int, default=100000000)\n",
    "    parser.add_argument('--lr', dest='lr', type=float, default=0.00025)\n",
    "    parser.add_argument('--lr_decay', action='store_true', help='decay learning rate')\n",
    "    parser.add_argument('--gamma', help='discount_factor', type=float, default=0.99)\n",
    "    parser.add_argument('--warmup_mem', type=int, help='warmup memory size', default=1000)\n",
    "    parser.add_argument('--frame_skip', type=int, help='number of frames to skip for each action', default=3)\n",
    "    parser.add_argument('--frame_stack', type=int, help='number of frames to stack', default=4)\n",
    "    parser.add_argument('--memory', help='memory size', type=int, default=1000000)\n",
    "    parser.add_argument('--initial_epsilon', '-ie', help='initial_epsilon', type=float, default=0.5)\n",
    "    parser.add_argument('--final_epsilon', '-fe', help='final_epsilon', type=float, default=0.05)\n",
    "    parser.add_argument('--max_epsilon_decay_steps', '-eds', help='maximum steps to decay epsilon', type=int, default=100000)\n",
    "    parser.add_argument('--max_grad_norm', type=float, default=None, help='maximum gradient norm')\n",
    "    parser.add_argument('--soft_update', '-su', action='store_true', help='soft update target network')\n",
    "    parser.add_argument('--double_q', '-dq', action='store_true', help='enabling double DQN')\n",
    "    parser.add_argument('--dueling_net', '-dn', action='store_true', help='enabling dueling network')\n",
    "    parser.add_argument('--test', action='store_true', help='test the trained model')\n",
    "    parser.add_argument('--tau', type=float, default=0.01, help='tau for soft target network update')\n",
    "    parser.add_argument('--hard_update_freq', '-huf', type=int, default=2000, help='hard target network update frequency')\n",
    "    parser.add_argument('--save_dir', type=str, default='./data')\n",
    "    parser.add_argument('--resume_step', '-rs', type=int, default=None)\n",
    "    return parser.parse_args()"
   ]
  },
  {
   "cell_type": "code",
   "execution_count": 12,
   "metadata": {
    "id": "X3Rkxe4VwOmu"
   },
   "outputs": [],
   "source": [
    "#@title Set up constants for env and training\n",
    "test = False \n",
    "save_dir = './data'\n",
    "render = False\n",
    "max_episode = None\n",
    "max_timesteps = 100000000\n"
   ]
  },
  {
   "cell_type": "code",
   "execution_count": 13,
   "metadata": {
    "id": "539HMtWFwOmv"
   },
   "outputs": [],
   "source": [
    "#@title Augmentations\n",
    "\n",
    "color_jitter = aug.ColorJitter(\n",
    "        brightness=np.random.random(),\n",
    "        contrast=np.random.random(),\n",
    "        saturation=np.random.random(),\n",
    "        hue=np.random.random(),\n",
    "        p=0.5\n",
    "        )\n",
    "random_elastic_transform = aug.RandomElasticTransform()\n",
    "random_fisheye = aug.RandomFisheye(\n",
    "        center_x=torch.tensor([-.3, .3]),\n",
    "        center_y=torch.tensor([-.3, .3]),\n",
    "        gamma=torch.tensor([.9, 1.]),\n",
    "        )\n",
    "random_color_equalize = aug.RandomEqualize()\n",
    "random_gaussian_blur = aug.RandomGaussianBlur(\n",
    "        kernel_size=(9, 9),\n",
    "        sigma = (5., 5.)\n",
    "        )\n",
    "random_gaussian_noise = aug.RandomGaussianNoise()\n",
    "random_horizontal_flip = aug.RandomHorizontalFlip()\n",
    "random_color_invert = aug.RandomInvert()\n",
    "random_perspective_shift = aug.RandomPerspective()\n",
    "random_shift = nn.Sequential(aug.RandomCrop((190, 140)), nn.ReplicationPad2d(20), aug.RandomCrop((210, 160)))"
   ]
  },
  {
   "cell_type": "code",
   "execution_count": 14,
   "metadata": {
    "id": "K78NVCz-oqHc"
   },
   "outputs": [],
   "source": [
    "def tie_weights(src, trg):\n",
    "    assert type(src) == type(trg)\n",
    "    trg.weight = src.weight\n",
    "    trg.bias = src.bias\n",
    "\n",
    "\n",
    "# for 84 x 84 inputs\n",
    "OUT_DIM = {2: 39, 4: 35, 6: 31}\n",
    "# for 64 x 64 inputs\n",
    "OUT_DIM_64 = {2: 29, 4: 25, 6: 21}\n",
    "\n",
    "''' TODO change the layer parameters ''' \n",
    "class PixelEncoder(nn.Module):\n",
    "    \"\"\"Convolutional encoder of pixels observations.\"\"\"\n",
    "    # [210, 160] --> crop [190, 140]\n",
    "    def __init__(self, obs_shape, feature_dim=50, num_layers=3, num_filters=64, output_logits=False):\n",
    "        super().__init__()\n",
    "\n",
    "        assert len(obs_shape) == 3\n",
    "        self.obs_shape = obs_shape\n",
    "        self.feature_dim = feature_dim\n",
    "        self.num_layers = num_layers\n",
    "        \n",
    "        # 160, 210, 3 \n",
    "        self.conv1 = nn.Conv2d(3, 32, kernel_size=5, stride=5)\n",
    "        # Input to conv2: 32, 42, 32\n",
    "        self.conv2 = nn.Conv2d(32, 64, kernel_size=4, stride=2)\n",
    "        # Input to conv3: 15, 20, 64\n",
    "        self.conv3 = nn.Conv2d(64, 64, kernel_size=4, stride=1)\n",
    "        # Output from conv3: 12, 17, 64\n",
    "\n",
    "        # out_dim = OUT_DIM_64[num_layers] if obs_shape[-1] == 64 else OUT_DIM[num_layers]\n",
    "        out_dims = (12, 17)\n",
    "        self.fc = nn.Linear(num_filters * out_dims[0] * out_dims[1], self.feature_dim)\n",
    "        self.ln = nn.LayerNorm(self.feature_dim)\n",
    "\n",
    "        self.outputs = dict()\n",
    "        self.output_logits = output_logits\n",
    "\n",
    "    def reparameterize(self, mu, logstd):\n",
    "        std = torch.exp(logstd)\n",
    "        eps = torch.randn_like(std)\n",
    "        return mu + eps * std\n",
    "\n",
    "    def forward_conv(self, obs):\n",
    "        obs = obs / 255.\n",
    "        self.outputs['obs'] = obs\n",
    "        conv1 = torch.relu(self.conv1(obs))\n",
    "        self.outputs['conv1'] = conv1\n",
    "        conv2 = torch.relu(self.conv2(conv1))\n",
    "        self.outputs['conv2'] = conv2\n",
    "        conv3 = torch.relu(self.conv3(conv2))\n",
    "        self.outputs['conv3'] = conv3\n",
    "\n",
    "        h = conv3.view(conv3.size(0), -1)\n",
    "        return h\n",
    "\n",
    "    def forward(self, obs, detach=False):\n",
    "        h = self.forward_conv(obs)\n",
    "\n",
    "        if detach:\n",
    "            h = h.detach()\n",
    "\n",
    "        h_fc = self.fc(h)\n",
    "        self.outputs['fc'] = h_fc\n",
    "\n",
    "        h_norm = self.ln(h_fc)\n",
    "        self.outputs['ln'] = h_norm\n",
    "\n",
    "        if self.output_logits:\n",
    "            out = h_norm\n",
    "        else:\n",
    "            out = torch.tanh(h_norm)\n",
    "            self.outputs['tanh'] = out\n",
    "\n",
    "        return out\n",
    "\n",
    "    def copy_conv_weights_from(self, source):\n",
    "        \"\"\"Tie convolutional layers\"\"\"\n",
    "        # only tie conv layers\n",
    "        for i in range(self.num_layers):\n",
    "            tie_weights(src=source.convs[i], trg=self.convs[i])\n",
    "\n",
    "    def log(self, L, step, log_freq):\n",
    "        if step % log_freq != 0:\n",
    "            return\n",
    "\n",
    "        for k, v in self.outputs.items():\n",
    "            L.log_histogram('train_encoder/%s_hist' % k, v, step)\n",
    "            if len(v.shape) > 2:\n",
    "                L.log_image('train_encoder/%s_img' % k, v[0], step)\n",
    "\n",
    "        for i in range(self.num_layers):\n",
    "            L.log_param('train_encoder/conv%s' % (i + 1), self.convs[i], step)\n",
    "        L.log_param('train_encoder/fc', self.fc, step)\n",
    "        L.log_param('train_encoder/ln', self.ln, step)"
   ]
  },
  {
   "cell_type": "code",
   "execution_count": 15,
   "metadata": {
    "id": "0kIzyV1QwOmw"
   },
   "outputs": [],
   "source": [
    "def wrap_env(env, train=True):\n",
    "    suffix = 'train' if train else 'test'\n",
    "    monitor_dir = os.path.join(save_dir, 'monitor_%s' % suffix)\n",
    "    os.makedirs(monitor_dir, exist_ok=True)\n",
    "    if not train:\n",
    "        video_save_interval = 10\n",
    "        env = Monitor(env, directory=monitor_dir,\n",
    "                      video_callable=lambda episode_id: episode_id % video_save_interval == 0,\n",
    "                      force=True)\n",
    "    else:\n",
    "        if render:\n",
    "            if max_episode is not None:\n",
    "                video_save_interval = int(max_episode / 3)\n",
    "            else:\n",
    "                video_save_interval = int(max_timesteps / float(env._max_episode_steps) / 3)\n",
    "            env = Monitor(env, directory=monitor_dir,\n",
    "                          video_callable=lambda episode_id: episode_id % video_save_interval == 0,\n",
    "                          force=True)\n",
    "        else:\n",
    "            env = Monitor(env, directory=monitor_dir, video_callable=False, force=True)\n",
    "    return env"
   ]
  },
  {
   "cell_type": "code",
   "execution_count": 16,
   "metadata": {
    "id": "mZgEGp83wOmw"
   },
   "outputs": [],
   "source": [
    "class ReplayMemory(object):\n",
    "    def __init__(self, max_epi_num=2000, max_epi_len=200):\n",
    "        # capacity is the maximum number of steps in memory\n",
    "        self.max_epi_num = max_epi_num\n",
    "        self.max_epi_len = max_epi_len\n",
    "        # saves each tuple of (state, action, next state, reward)\n",
    "        self.capacity = 1000 # self.max_epi_num * max_epi_len\n",
    "        self.idx = 0\n",
    "        self.obs_memory = np.zeros((self.capacity, 210, 160, 3)) # deque(maxlen=self.max_epi_num * max_epi_len)\n",
    "        self.next_memory = np.zeros((self.capacity, 210, 160, 3))\n",
    "        self.act_memory = np.zeros((self.capacity, 1))\n",
    "        self.reward_memory = np.zeros((self.capacity, 1))\n",
    "        self.is_av = False\n",
    "        self.current_epi = 0\n",
    "\n",
    "    def reset(self):\n",
    "        self.current_epi = 0\n",
    "        self.memory.clear()\n",
    "\n",
    "    ''' deprecated for tuple buffer '''\n",
    "    def create_new_epi(self):\n",
    "        pass\n",
    "\n",
    "    def remember(self, state, next_state, action, reward):\n",
    "        self.obs_memory[self.idx % self.capacity] = state.copy()\n",
    "        self.next_memory[self.idx % self.capacity] = next_state.copy()\n",
    "        self.act_memory[self.idx % self.capacity] = action\n",
    "        self.reward_memory[self.idx % self.capacity] = reward\n",
    "        self.idx += 1\n",
    "        \n",
    "        '''\n",
    "        if len(self.memory) < self.capacity:\n",
    "            new_sample = np.array([state, action, reward, next_state])\n",
    "            if len(self.memory) == 0:\n",
    "                self.memory = [new_sample]\n",
    "            else:\n",
    "                length = len(self.memory)\n",
    "                self.memory.append(new_sample)\n",
    "        '''\n",
    "                \n",
    "    # samples batch_size\n",
    "    def sample(self, batch_size):\n",
    "        if batch_size < self.idx:\n",
    "            max_sz = min(self.capacity, self.idx)\n",
    "            idx = np.random.randint(0, max_sz, batch_size)\n",
    "            return self.obs_memory[idx], self.next_memory[idx], self.act_memory[idx], self.reward_memory[idx]\n",
    "        return self.obs_memory, self.next_memory, self.act_memory, self.reward_memory\n",
    "\n",
    "    def size(self):\n",
    "        return self.idx\n",
    "\n",
    "    def is_available(self):\n",
    "        self.is_av = True\n",
    "        if self.idx <= 1:\n",
    "            self.is_av = False\n",
    "        return self.is_av\n",
    "\n",
    "    def print_info(self):\n",
    "        pass"
   ]
  },
  {
   "cell_type": "code",
   "execution_count": 17,
   "metadata": {
    "id": "FmR5zvSVwOmw"
   },
   "outputs": [],
   "source": [
    "#@title Create a training conv agent\n",
    "import torch.nn.functional as F\n",
    "\n",
    "class DQNetworkConv(nn.Module):\n",
    "    def __init__(self, in_channels, act_dim, dueling=False):\n",
    "        super(DQNetworkConv, self).__init__()\n",
    "        self.act_dim = act_dim\n",
    "        self.dueling = dueling\n",
    "        # 160, 210, 3 \n",
    "        self.conv1 = nn.Conv2d(in_channels, 32, kernel_size=5, stride=5)\n",
    "        # Input to conv2: 32, 42, 32\n",
    "        self.conv2 = nn.Conv2d(32, 64, kernel_size=4, stride=2)\n",
    "        # Input to conv3: 15, 20, 64\n",
    "        self.conv3 = nn.Conv2d(64, 64, kernel_size=4, stride=1)\n",
    "        # Output from conv3: 12, 17, 64\n",
    "        if self.dueling:\n",
    "            self.v_fc4 = nn.Linear(12 * 17 * 64, 512)\n",
    "            self.adv_fc4 = nn.Linear(12 * 17 * 64, 512)\n",
    "            self.v_fc5 = nn.Linear(512, 1)\n",
    "            self.adv_fc5 = nn.Linear(512, self.act_dim)\n",
    "        else:\n",
    "            self.fc4 = nn.Linear(12 * 17 * 64, 512)\n",
    "            self.fc5 = nn.Linear(512, self.act_dim)\n",
    "        self.parameters = (list(self.conv1.parameters())) + (list(self.conv2.parameters())) + (list(self.conv3.parameters())) + (list(self.fc4.parameters())) + (list(self.fc5.parameters()))\n",
    "\n",
    "    def forward(self, st):\n",
    "        out = F.relu(self.conv1(st))\n",
    "        out = F.relu(self.conv2(out))\n",
    "        out = F.relu(self.conv3(out))\n",
    "        out = out.view(out.size(0), -1)\n",
    "        if self.dueling:\n",
    "            val = F.relu(self.v_fc4(out))\n",
    "            adv = F.relu(self.adv_fc4(out))\n",
    "            val = self.v_fc5(val)\n",
    "            adv = self.adv_fc5(adv)\n",
    "            out = val.expand_as(adv) + adv - adv.mean(-1, keepdim=True).expand_as(adv)\n",
    "        else:\n",
    "            out = F.relu(self.fc4(out))\n",
    "            out = self.fc5(out)\n",
    "        return out"
   ]
  },
  {
   "cell_type": "code",
   "execution_count": 18,
   "metadata": {
    "id": "ZGsarcvPzoNm"
   },
   "outputs": [],
   "source": [
    "#@title Create a training FC agent\n",
    "import torch.nn.functional as F\n",
    "\n",
    "class DQNetworkFC(nn.Module):\n",
    "    def __init__(self, z_dim, act_dim, dueling=False):\n",
    "        super(DQNetworkFC, self).__init__()\n",
    "        self.act_dim = act_dim\n",
    "        self.input_dim = z_dim \n",
    "        self.dueling = dueling\n",
    "        if self.dueling:\n",
    "            self.v_fc1 = nn.Linear(z_dim, 512)\n",
    "            self.adv_fc1 = nn.Linear(z_dim, 512)\n",
    "            self.v_fc2 = nn.Linear(512, 1)\n",
    "            self.adv_fc2 = nn.Linear(512, 256)\n",
    "            self.v_fc3 = nn.Linear(256, 1)\n",
    "            self.adv_fc3 = nn.Linear(256, self.act_dim)\n",
    "        else:\n",
    "            self.fc1 = nn.Linear(z_dim, 512)\n",
    "            self.fc2 = nn.Linear(512, 256)\n",
    "            self.fc3 = nn.Linear(256, self.act_dim)\n",
    "\n",
    "    def forward(self, st):\n",
    "        out = F.relu(self.fc1(st))\n",
    "        out = F.relu(self.fc2(out))\n",
    "        ''' Do we need a relu on the last layer if the output is probability over action space? '''\n",
    "        out = F.relu(self.fc3(out))\n",
    "        return out"
   ]
  },
  {
   "cell_type": "code",
   "execution_count": 19,
   "metadata": {
    "id": "I5dCMf6CH99A"
   },
   "outputs": [],
   "source": [
    "# import torch.nn.functional as F\n",
    "\n",
    "def process_obs(obs, pad=True):\n",
    "    '''\n",
    "    Pad to match the expected encoder input size\n",
    "    '''\n",
    "    obs = torch.Tensor(obs)\n",
    "    if len(obs.shape) < 4:\n",
    "        obs = obs.unsqueeze(0)\n",
    "        \n",
    "    if pad:\n",
    "        w_pad = torch.zeros((obs.shape[0], (224-obs.shape[1])//2, obs.shape[2], 3))\n",
    "        obs = torch.cat((w_pad, obs, w_pad), 1)\n",
    "        h_pad = torch.zeros((obs.shape[0], 224, (224 - obs.shape[2])//2, 3))\n",
    "        obs = torch.cat((h_pad, obs, h_pad), 2)\n",
    "    obs = obs.permute(0, 3, 1, 2)\n",
    "    return obs"
   ]
  },
  {
   "cell_type": "code",
   "execution_count": 20,
   "metadata": {
    "id": "H6_wThKowOmx"
   },
   "outputs": [],
   "source": [
    "def take_action(env, action):\n",
    "    state, rew, done, _ = env.step(action)\n",
    "    obs = env.render(mode='rgb_array')\n",
    "    return obs, rew, done"
   ]
  },
  {
   "cell_type": "code",
   "execution_count": 21,
   "metadata": {
    "id": "XL9D4MCxwOmx"
   },
   "outputs": [],
   "source": [
    "MAX_STEPS = 200"
   ]
  },
  {
   "cell_type": "code",
   "execution_count": 22,
   "metadata": {
    "id": "9NKDLpKGJ2lB"
   },
   "outputs": [],
   "source": [
    "class CURL(nn.Module):\n",
    "    \"\"\"\n",
    "    CURL\n",
    "    \"\"\"\n",
    "\n",
    "    def __init__(self, obs_shape, z_dim, batch_size, encoder, output_type=\"continuous\", critic=None, critic_target=None):\n",
    "        super(CURL, self).__init__()\n",
    "        self.batch_size = batch_size\n",
    "\n",
    "        # self.encoder = critic.encoder\n",
    "        self.encoder = encoder \n",
    "\n",
    "        # self.encoder_target = critic_target.encoder \n",
    "\n",
    "        self.W = nn.Parameter(torch.rand(z_dim, z_dim))\n",
    "        self.output_type = output_type\n",
    "\n",
    "    def encode(self, x, detach=False, ema=False):\n",
    "        \"\"\"\n",
    "        Encoder: z_t = e(x_t)\n",
    "        :param x: x_t, x y coordinates\n",
    "        :return: z_t, value in r2\n",
    "        \"\"\"\n",
    "        if ema:\n",
    "            with torch.no_grad():\n",
    "                z_out = self.encoder_target(x)\n",
    "        else:\n",
    "            z_out = self.encoder(x)\n",
    "\n",
    "        if detach:\n",
    "            z_out = z_out.detach()\n",
    "        return z_out\n",
    "\n",
    "    def compute_logits(self, z_a, z_mod):\n",
    "        \"\"\"\n",
    "        Uses logits trick for CURL:\n",
    "        - compute (B,B) matrix z_a (W z_pos.T)\n",
    "        - positives are all diagonal elements\n",
    "        - negatives are all other elements\n",
    "        - to compute loss use multiclass cross entropy with identity matrix for labels\n",
    "        \"\"\"\n",
    "        Wz = torch.matmul(self.W, z_mod.T)  # (z_dim,B)\n",
    "        logits = torch.matmul(z_a, Wz)  # (B,B)\n",
    "        logits = logits - torch.max(logits, 1)[0][:, None]\n",
    "        return logits"
   ]
  },
  {
   "cell_type": "code",
   "execution_count": 23,
   "metadata": {
    "id": "1wbEY4hTshF6"
   },
   "outputs": [],
   "source": [
    "#@title Generate a batch of negatively labelled examples given observations\n",
    "\n",
    "def generate_negatives(obs):\n",
    "    neg_idx = np.random.randint(len(obs), size=len(obs))\n",
    "    pos_idx = np.arange(len(obs))\n",
    "    resample = (neg_idx == pos_idx)\n",
    "    for (i, r) in enumerate(resample):\n",
    "        if r:\n",
    "            idx = neg_idx[i]\n",
    "        else:\n",
    "            idx = np.random.randint(0, len(obs), 1)[0]\n",
    "            while idx == i:\n",
    "                idx = np.random.randint(0, len(obs), 1)[0]\n",
    "        neg_idx[i] = idx\n",
    "    return (obs[neg_idx]).copy()\n"
   ]
  },
  {
   "cell_type": "code",
   "execution_count": 24,
   "metadata": {
    "id": "x3KEWmwUwOmx"
   },
   "outputs": [],
   "source": [
    "#@title Create a training agent (wrapper for conv agent)\n",
    "from torch.autograd import Variable\n",
    "\n",
    "GAMMA = 0.99\n",
    "\n",
    "class Agent(object):\n",
    "    def __init__(self, act_dim, in_channels=3, max_epi_num=50, max_epi_len=300, encoder=None, conv_net=False, z_dim=50):\n",
    "        self.N_action = act_dim\n",
    "        self.max_epi_num = max_epi_num\n",
    "        self.max_epi_len = max_epi_len\n",
    "        ''' To decide when to copy weights to the target network '''\n",
    "        self.num_param_updates = 0\n",
    "        \n",
    "        ''' Choose between a pre-trained (on Imagenet) encoder or CURL encoder'''\n",
    "        # pretrained encoder --> get its hidden features as the state encoding for RL training\n",
    "        self.encoder = encoder\n",
    "        if conv_net:\n",
    "            self.q_net = DQNetworkConv(in_channels, act_dim)\n",
    "            self.target = DQNetworkConv(in_channels, act_dim)\n",
    "        else:\n",
    "            ''' if using the encoder head for contrastive loss '''\n",
    "            self.q_net = DQNetworkFC(z_dim, act_dim)\n",
    "            self.target = DQNetworkFC(z_dim, act_dim)\n",
    "        self.buffer = ReplayMemory(max_epi_num=self.max_epi_num, max_epi_len=self.max_epi_len)\n",
    "        self.gamma = 0.99\n",
    "        self.loss_fn = torch.nn.MSELoss()\n",
    "        self.optimizer = torch.optim.Adam(self.q_net.parameters(), lr=1e-3)\n",
    "\n",
    "    def remember(self, state, action, reward, next_state):\n",
    "        ''' Divide by 255 if using resnet or vgg as the pretrained encoder net '''\n",
    "        state = state.copy() / 255.0\n",
    "        next_state = next_state.copy() / 255.0\n",
    "        self.buffer.remember(state, next_state, action, reward)\n",
    "\n",
    "    ''' Copy the weights to the target network every 100 updates '''\n",
    "    def train(self, batch_size=32, target_update_freq=100, use_encoder=True):\n",
    "        if self.buffer.is_available():\n",
    "            obs, next_obs, action_list, reward_list = self.buffer.sample(batch_size)\n",
    "            \n",
    "            ''' Pass through the encoder to get encodings\n",
    "             If also training the contrastive loss\n",
    "             include that here! \n",
    "             1. data augmentation to create pos and negative pairs\n",
    "             2. encoder \n",
    "             3. update encoder loss function (using a separate optimizer) or add to the loss computed below\n",
    "            '''\n",
    "\n",
    "            losses = [] \n",
    "\n",
    "            ''' If not using the encoder, pass the obs directly to the CNN '''\n",
    "            obs = process_obs(obs)\n",
    "            next_obs = process_obs(next_obs)\n",
    "            # estimate current q values from obs\n",
    "            z = self.encoder(obs)\n",
    "            next_z = self.encoder(next_obs).detach()\n",
    "            \n",
    "            Qs = self.q_net(z)\n",
    "            \n",
    "            ''' find target q values ''' \n",
    "            # find next max q values based on next observations\n",
    "            next_qs = self.target(next_z).detach()\n",
    "            next_Qs, max_actions = next_qs.max(1)[0], next_qs.max(1)[1]\n",
    "            \n",
    "            '''\n",
    "            # create a mask for actions taken in the env\n",
    "            mask = torch.zeros((Qs.shape))\n",
    "            for (i, action) in enumerate(action_list):\n",
    "                mask[i, int(action[0])] = 1.0\n",
    "            mask = Variable(mask, requires_grad=True)\n",
    "            # Qs = torch.gather(Qs, dim=1, index=torch.tensor(action_list, dtype=torch.int64)).reshape(-1)\n",
    "            \n",
    "            next_Qs = next_Qs.numpy()\n",
    "            target_qs = torch.tensor(reward_list.squeeze(-1) + GAMMA * next_Qs).long()\n",
    "            # try to set Qs equal to target_Qs \n",
    "            Qs = Qs * mask\n",
    "            target_Qs = torch.zeros((Qs.shape))\n",
    "            for (i, q) in enumerate(target_qs):\n",
    "                target_Qs[i, int(action_list[i][0])] = q\n",
    "            '''\n",
    "            \n",
    "            next_Qs = next_Qs.numpy()\n",
    "            \n",
    "            target_qs = torch.tensor(reward_list.squeeze(-1) + GAMMA * next_Qs).float()\n",
    "            target_qs = target_qs.repeat(18).reshape(18, 32)\n",
    "            target_qs = target_qs.permute(1, 0)\n",
    "            # Qs.requires_grad = True\n",
    "            q_loss = torch.sum((Qs - target_qs) ** 2)\n",
    "            # q_loss = self.loss_fn(Qs, target_qs).long()\n",
    "            losses.append(q_loss)\n",
    "            \n",
    "            ''' Loss update for q network and encoder head '''\n",
    "            losses = torch.stack(losses).sum()\n",
    "            self.optimizer.zero_grad()\n",
    "            losses.backward()\n",
    "            self.optimizer.step()\n",
    "\n",
    "            self.num_param_updates += 1\n",
    "            if self.num_param_updates % target_update_freq == 0:\n",
    "                self.target.load_state_dict(self.q_net.state_dict())\n",
    "\n",
    "    # TODO: check the sizes of inputs and outputs\n",
    "    def get_action(self, obs, epsilon, use_encoding=True):\n",
    "        ''' \n",
    "         If using an encoder, need to pass that thorugh the encoder\n",
    "         then use the encoding to pass through self.conv_net\n",
    "        '''\n",
    "        obs = process_obs(obs)\n",
    "\n",
    "        # Dividing obs by 255 is handled in encoder forward (only needed for use_encoding=False)\n",
    "        if len(obs.shape) == 1:\n",
    "            obs = obs.unsqueeze(0)\n",
    "\n",
    "        # epsilon greedy for selecting which action to take\n",
    "        if random.random() > epsilon:\n",
    "            zs = self.encoder(obs).detach()\n",
    "            qs = self.q_net(zs)\n",
    "            action = qs[0].argmax().data.item()\n",
    "        else:\n",
    "            action = random.randint(0, self.N_action-1)\n",
    "\n",
    "        return action\n",
    "\n",
    "def get_decay(epi_iter):\n",
    "    decay = math.pow(0.999, epi_iter)\n",
    "    if decay < 0.05:\n",
    "        decay = 0.05\n",
    "    return decay"
   ]
  },
  {
   "cell_type": "code",
   "execution_count": 25,
   "metadata": {},
   "outputs": [
    {
     "name": "stderr",
     "output_type": "stream",
     "text": [
      "Using cache found in /home/alexdloia/.cache/torch/hub/pytorch_vision_v0.10.0\n"
     ]
    }
   ],
   "source": [
    "\"\"\" Replace CURL encoder with VGG11 encoder head \"\"\"\n",
    "import torch\n",
    "model = torch.hub.load('pytorch/vision:v0.10.0', 'vgg11', pretrained=True)"
   ]
  },
  {
   "cell_type": "code",
   "execution_count": 26,
   "metadata": {},
   "outputs": [
    {
     "name": "stderr",
     "output_type": "stream",
     "text": [
      "Using cache found in /home/alexdloia/.cache/torch/hub/pytorch_vision_v0.10.0\n"
     ]
    }
   ],
   "source": [
    "resnet = torch.hub.load('pytorch/vision:v0.10.0', 'resnet18', pretrained=True)"
   ]
  },
  {
   "cell_type": "code",
   "execution_count": 27,
   "metadata": {},
   "outputs": [],
   "source": [
    "z_dim = resnet.fc.in_features\n",
    "for param in resnet.parameters():\n",
    "    param.requires_grad = False\n",
    "resnet.fc = nn.Flatten()"
   ]
  },
  {
   "cell_type": "code",
   "execution_count": 28,
   "metadata": {
    "id": "1WWwX8wewOmy"
   },
   "outputs": [],
   "source": [
    "def main():\n",
    "    \n",
    "    if not os.path.exists(\"exps\"):\n",
    "        os.makedirs(\"exps\")\n",
    "        \n",
    "    env = gym.make('ALE/SpaceInvaders-v5')\n",
    "    max_epi_iter = 4000\n",
    "    max_MC_iter = 400\n",
    "    obs = env.render(mode='rgb_array')\n",
    "    agent = Agent(act_dim=env.action_space.n, max_epi_num=10000, max_epi_len=max_MC_iter, encoder=resnet, z_dim=z_dim)\n",
    "    train_curve = []\n",
    "    for epi_iter in range(max_epi_iter):\n",
    "        random.seed()\n",
    "        env.reset()\n",
    "        obs = env.render(mode='rgb_array')\n",
    "        returns = 0.0\n",
    "        for MC_iter in range(max_MC_iter):\n",
    "            # Make sure to set this to an actual action\n",
    "            # TODO: decide whether to normalize pixels by / 255 (already done in PixelEncoder atm)\n",
    "            action = agent.get_action(obs, get_decay(epi_iter))\n",
    "            next_obs, reward, done = take_action(env, action)\n",
    "            returns += reward * agent.gamma ** (MC_iter)\n",
    "            agent.remember(obs, action, reward, next_obs)\n",
    "            obs = next_obs.copy()\n",
    "            if done or MC_iter >= max_MC_iter-1:\n",
    "                agent.buffer.create_new_epi()\n",
    "                break\n",
    "        print('Episode', epi_iter, 'returns', returns)\n",
    "        if epi_iter % 1 == 0:\n",
    "            train_curve.append(returns)\n",
    "        if epi_iter % 20 == 0:\n",
    "            print(\"saving results from {}\".format(epi_iter))\n",
    "            np.save(\"exps/resnet_encoder_rew.npy\", np.array(train_curve))\n",
    "        if agent.buffer.is_available():\n",
    "            for i in range(5):\n",
    "                agent.train()\n",
    "        \n",
    "    print(train_curve)"
   ]
  },
  {
   "cell_type": "code",
   "execution_count": null,
   "metadata": {},
   "outputs": [
    {
     "name": "stderr",
     "output_type": "stream",
     "text": [
      "A.L.E: Arcade Learning Environment (version +978d2ce)\n",
      "[Powered by Stella]\n"
     ]
    },
    {
     "name": "stdout",
     "output_type": "stream",
     "text": [
      "Episode 0 returns 12.867856401013416\n",
      "saving results from 0\n",
      "Episode 1 returns 19.502238795994668\n",
      "Episode 2 returns 46.222493557473015\n",
      "Episode 3 returns 22.76214339509694\n",
      "Episode 4 returns 20.553496176985885\n",
      "Episode 5 returns 27.899955731069166\n",
      "Episode 6 returns 17.895495897471136\n",
      "Episode 7 returns 16.645918970544074\n",
      "Episode 8 returns 35.50305594065112\n",
      "Episode 9 returns 31.346794342775198\n",
      "Episode 10 returns 26.857913323000908\n",
      "Episode 11 returns 13.127221911214834\n",
      "Episode 12 returns 20.057740719401814\n",
      "Episode 13 returns 11.960411034300321\n",
      "Episode 14 returns 28.415281606333448\n",
      "Episode 15 returns 19.916377611499556\n",
      "Episode 16 returns 29.374344296306646\n",
      "Episode 17 returns 30.745657490580733\n",
      "Episode 18 returns 31.21539311514284\n",
      "Episode 19 returns 9.970886262030538\n",
      "Episode 20 returns 29.879070236215792\n",
      "saving results from 20\n",
      "Episode 21 returns 29.844853652828473\n",
      "Episode 22 returns 42.288916705837806\n",
      "Episode 23 returns 17.352021609321255\n",
      "Episode 24 returns 29.106069179041057\n"
     ]
    }
   ],
   "source": [
    "main()"
   ]
  },
  {
   "cell_type": "code",
   "execution_count": null,
   "metadata": {},
   "outputs": [],
   "source": [
    "for m in model.modules():\n",
    "    print(m)"
   ]
  },
  {
   "cell_type": "markdown",
   "metadata": {
    "id": "UkCfk2GjBNRl"
   },
   "source": [
    "Code references for DQN:\n",
    "\n",
    "https://github.com/taochenshh/dqn-pytorch\n",
    "\n",
    "https://github.com/transedward/pytorch-dqn (for sampling from replay buffer)\n",
    "\n",
    "CURL code: https://github.com/MishaLaskin/curl\n",
    "\n",
    "Code reference for using a pretrained network on imagenet (VGG):\n",
    "https://pytorch.org/hub/pytorch_vision_vgg/"
   ]
  }
 ],
 "metadata": {
  "colab": {
   "collapsed_sections": [],
   "name": "sample_gym_env_v3.ipynb",
   "provenance": []
  },
  "kernelspec": {
   "display_name": "Python 3",
   "language": "python",
   "name": "python3"
  },
  "language_info": {
   "codemirror_mode": {
    "name": "ipython",
    "version": 3
   },
   "file_extension": ".py",
   "mimetype": "text/x-python",
   "name": "python",
   "nbconvert_exporter": "python",
   "pygments_lexer": "ipython3",
   "version": "3.7.10"
  }
 },
 "nbformat": 4,
 "nbformat_minor": 1
}
